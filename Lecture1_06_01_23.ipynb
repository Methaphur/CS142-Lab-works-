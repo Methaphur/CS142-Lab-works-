{
  "nbformat": 4,
  "nbformat_minor": 0,
  "metadata": {
    "colab": {
      "provenance": [],
      "authorship_tag": "ABX9TyP1bMjaKJFleRmUEc84/MBg",
      "include_colab_link": true
    },
    "kernelspec": {
      "name": "python3",
      "display_name": "Python 3"
    },
    "language_info": {
      "name": "python"
    }
  },
  "cells": [
    {
      "cell_type": "markdown",
      "metadata": {
        "id": "view-in-github",
        "colab_type": "text"
      },
      "source": [
        "<a href=\"https://colab.research.google.com/github/Methaphur/CS142-Lab-works-/blob/main/Lecture1_06_01_23.ipynb\" target=\"_parent\"><img src=\"https://colab.research.google.com/assets/colab-badge.svg\" alt=\"Open In Colab\"/></a>"
      ]
    },
    {
      "cell_type": "markdown",
      "source": [
        "## Content : \n",
        "- Asymptotic,  Recursion\n",
        "- Searching , Sorting\n",
        "-Linked list , Stack , Queue \n",
        "-Tree , BST (Binary Search Tree)\n",
        "- Heaps \n",
        "-Graphs\n",
        "-Directories , Hashing \n",
        "\n",
        "\n",
        "##Objective :\n",
        "- Algorithmic thinking \n",
        "- To learn fundamental DS\n",
        "\n",
        "\n",
        "## Grading:\n",
        "- 30% - Lab exam , Attendance , Suprise Quizzes\n",
        "- 30% Assignments\n",
        "-40% Final exam\n",
        "\n",
        "##Goal : \n",
        "- To \"solve\" \"Computational problem\" in a \"computer\"\n",
        "\n",
        "\n",
        "###   What is a \"Computational Problem\"\n",
        "- $I$ - set of input , $O$ - set of output ,  $ Q \\subseteq I $ $\\chi $ $O$ \n",
        "- $Q$ is a relation from Input to Output and to solve a problem $Q$ is to come up with a \"correct\" program $P$\n",
        "\n",
        "\n",
        "To solve a problem Q is to come up with a \"correct\" program $P$   \n",
        "\n",
        "\n",
        "Can we \"**solve**\" Every computational problem ??? - \"**NO**\"\n",
        "\n",
        "\n",
        "## Algorithm Design Paradigms:\n",
        "- Divide and Conquer \n",
        "-Dynamic Programming Algorithm\n",
        "-Greedy Algorithm  \n",
        "\n",
        "\n",
        "****************************************************************************************************************************************************************\n"
      ],
      "metadata": {
        "id": "b02aVCmqQqDn"
      }
    },
    {
      "cell_type": "markdown",
      "source": [
        " ## Time complexity:\n",
        "\n",
        "- Number of *basic* operations the program is calculating\n",
        "-Calculating efficiency of the program should be independenet of the machine \n",
        "- Worst case time analysis \n",
        "- T is a function of the size of input - n \n",
        "\n",
        "\n",
        "$T(n) = n^{2} + 5n$\n",
        "\n",
        "**Complexity notated by O(n) - Asymptotic notations** \n",
        "\n",
        "- Upper bound case -  $ O(n) $\n",
        "- Lower bound case -  $ Ω(n^{2}) $\n",
        "\n",
        "- Basic operations - order $n$\n",
        "- In Big O notation , we only care about *dominant* \"significant\" terms\n"
      ],
      "metadata": {
        "id": "AQCTfTgkaIjO"
      }
    },
    {
      "cell_type": "code",
      "source": [
        "#Approach 1\n",
        "#Problem: To find indices of max 3 elements in a given list L \n",
        "#Duplicate List L       O(n)\n",
        "#Sort L'                O(nlogn)\n",
        "# Take last three elements \n",
        "#Search for L'[i] in L  O(n)\n",
        "\n",
        "\n",
        "\n",
        "L  = [45,98,5,67,88]\n",
        "# Duplicating L as Lp\n",
        "Lp = L[:]\n",
        "# Sorting Lp\n",
        "Lp.sort()\n",
        "# First,Second and Third max elements\n",
        "first_max  = Lp[-1] \n",
        "second_max = Lp[-2]\n",
        "third_max  = Lp[-3]\n",
        "# 3 Max Elements\n",
        "top_3 = [first_max,second_max,third_max]\n",
        "indices = []\n",
        "for i in top_3:\n",
        "#  Indices of first , second and third max elements\n",
        "  indices.append(L.index(i))\n",
        "print(indices,\"wink wink <3\")\n"
      ],
      "metadata": {
        "colab": {
          "base_uri": "https://localhost:8080/"
        },
        "id": "hYsm6uA-Vq-7",
        "outputId": "85a98c63-7cbd-49d9-e90b-7db022917a29"
      },
      "execution_count": null,
      "outputs": [
        {
          "output_type": "stream",
          "name": "stdout",
          "text": [
            "[1, 4, 3] wink wink <3\n"
          ]
        }
      ]
    },
    {
      "cell_type": "code",
      "execution_count": null,
      "metadata": {
        "colab": {
          "base_uri": "https://localhost:8080/"
        },
        "id": "7aQ43b0CQj21",
        "outputId": "14b07a58-e57d-445a-acec-5b722827e88e"
      },
      "outputs": [
        {
          "output_type": "stream",
          "name": "stdout",
          "text": [
            "1 4 3 wink wink <3\n"
          ]
        }
      ],
      "source": [
        "# Approach 2 \n",
        "# Find max in L          O(n)\n",
        "# Find second max in L   O(n)\n",
        "# Find third max in L    O(n)\n",
        "# Output O(n)\n",
        "\n",
        "L  = [45,98,5,67,88]\n",
        "# Setting init values of first , second and third max as 0\n",
        "first_max = second_max = third_max = 0\n",
        "\n",
        "# Looping through each element in L\n",
        "for i in range(len(L)):\n",
        "  # Checkign if current element > our max element\n",
        "  if L[i] > first_max:\n",
        "    # Setting new max as the curent element if yes\n",
        "    first_max = L[i]   \n",
        "    # Saving index of first_max \n",
        "    first_max_index = i\n",
        "\n",
        "for i in range(len(L)):\n",
        "  # Looping through all the elements and finding max but should be less than first_max\n",
        "  if L[i] > second_max and L[i] < first_max:\n",
        "    second_max = L[i]\n",
        "    second_max_index = i\n",
        "\n",
        "# Finding third max , same principle as second_max\n",
        "for i in range(len(L)):\n",
        "  if L[i] > third_max and L[i] < second_max:\n",
        "    third_max = L[i]\n",
        "    third_max_index = i\n",
        "\n",
        "print(first_max_index,second_max_index,third_max_index,\"wink wink <3\")\n"
      ]
    },
    {
      "cell_type": "code",
      "source": [
        "# Problem: Finding out the course from a given \"time table\" data set containing only 2 classes a week\n",
        "# 2 Dimensional List [[C101,CS142,CS302..] , [...], [...]]\n",
        "# Assume we have m days and n courses a day \n",
        "# First Approach:\n",
        "  # Go through the course list \n",
        "  # Check the number of classes of said course  in a week  \n",
        "  # If n < 3 \n",
        "  # output \n",
        "  # Check through next course\n",
        " \n",
        "time_table = [\n",
        "     ['M102','P102','C102'],\n",
        "     ['B102','M102','P102'],\n",
        "     ['C102','B102','M102'],\n",
        "     ['P102','C102','B102'],\n",
        "     ['CS142','CS142']]\n",
        "\n",
        "#Init a list with all the courses (could be easily done using nested loops)\n",
        "course_list = ['M102', 'P102', 'C102', 'B102', 'CS142']\n",
        "\n",
        "print('Approach 1:')\n",
        "# Looping through the courses in the course list\n",
        "for course in course_list:\n",
        "  count = 0\n",
        "  # Looping through all the courses in the time table \n",
        "  for i in time_table:\n",
        "    for j in i:\n",
        "      if course == j:\n",
        "        count += 1\n",
        "  if count < 3:\n",
        "    print(f'{course} has less than 3 hours ') \n",
        "\n",
        "print() \n",
        "# Second approach:\n",
        "  # Creating Dictionary {name of course: Number of times appeared}\n",
        "  # Init course number with zero and increment it by 1 every time the course appears \n",
        "  # Search for key with value 2\n",
        "\n",
        "print('Approach 2:')\n",
        "# Initialize an empty dictionary\n",
        "course_hours = {}\n",
        "# Looping through all the courses in time table \n",
        "for i in time_table:\n",
        "  for course in i:\n",
        "    # If the course is not already recorded , set it's value to 1 on first occurence\n",
        "    if course not in course_hours:\n",
        "      course_hours[course] = 1\n",
        "    # On repeated occurences , increment it's value by 1\n",
        "    else:\n",
        "      course_hours[course] += 1\n",
        "\n",
        "#Looping through elements in dict to find course with < 3 hours\n",
        "for course,hours in course_hours.items():\n",
        "  if hours < 3:\n",
        "    print(f'{course} has less than 3 hours')"
      ],
      "metadata": {
        "colab": {
          "base_uri": "https://localhost:8080/"
        },
        "id": "eptEnIISXyIN",
        "outputId": "28ded22e-92f6-4bc0-87ec-8c9214e4244f"
      },
      "execution_count": null,
      "outputs": [
        {
          "output_type": "stream",
          "name": "stdout",
          "text": [
            "Approach 1:\n",
            "CS142 has less than 3 hours \n",
            "\n",
            "Approach 2:\n",
            "CS142 has less than 3 hours\n"
          ]
        }
      ]
    },
    {
      "cell_type": "code",
      "source": [
        "# Sorting\n",
        "# Input : L \n",
        "# For every i , L[i] < L[i+1]\n",
        "\n",
        "#Insertion Sort\n",
        "#Complexity : O(n^2)\n",
        "#Worst case : Descending order \n",
        "# Similar to stacking cards in your hand \n",
        "# i th element in the list is compared with immediate left most element and if it's smaller then \n",
        "# immediate left element is pushed one to the right and the one to the righr becomes the current element\n",
        "\n",
        "L = [24,1,5,98,21]\n",
        "\n",
        "def ins_sort(L):\n",
        "  for i in range(len(L)):\n",
        "    current = L[i]\n",
        "    j = i - 1 # Immediate left element of the last element\n",
        "    while j >= 0 and current < L[j]: # If current < immediate left :\n",
        "      L[j+1] = L[j]\n",
        "      j = j - 1\n",
        "    L[j+1] = current\n",
        "  return L\n",
        "print(ins_sort(L))"
      ],
      "metadata": {
        "colab": {
          "base_uri": "https://localhost:8080/"
        },
        "id": "MyyyoQdzg_0a",
        "outputId": "1b20bf9a-e92f-4852-a11b-0dda45c6d3f3"
      },
      "execution_count": null,
      "outputs": [
        {
          "output_type": "stream",
          "name": "stdout",
          "text": [
            "[1, 5, 21, 24, 98]\n"
          ]
        }
      ]
    }
  ]
}