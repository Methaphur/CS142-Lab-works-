{
  "nbformat": 4,
  "nbformat_minor": 0,
  "metadata": {
    "colab": {
      "provenance": [],
      "authorship_tag": "ABX9TyNmHVHFIrQqmmhfEiA2P9Uo",
      "include_colab_link": true
    },
    "kernelspec": {
      "name": "python3",
      "display_name": "Python 3"
    },
    "language_info": {
      "name": "python"
    }
  },
  "cells": [
    {
      "cell_type": "markdown",
      "metadata": {
        "id": "view-in-github",
        "colab_type": "text"
      },
      "source": [
        "<a href=\"https://colab.research.google.com/github/Methaphur/CS142-NISER/blob/main/Lab_Assignment_1(09_01_2023).ipynb\" target=\"_parent\"><img src=\"https://colab.research.google.com/assets/colab-badge.svg\" alt=\"Open In Colab\"/></a>"
      ]
    },
    {
      "cell_type": "code",
      "source": [
        "#Problem 1     \n",
        "#Finding c^m using log m number of multiplication operations\n",
        "def expo(n,m):\n",
        "  # When the exponent is 1 , return the base itself  \n",
        "  if m == 1:\n",
        "    return n\n",
        "  # If exponent is even , divide it by 2 and square the base\n",
        "  if m % 2 == 0:\n",
        "    return expo(n**2,m/2)\n",
        "  else:\n",
        "    # Else make n^m as n*(n^m-1)\n",
        "    return n*expo(n**2,(m-1)/2) \n",
        "\n",
        "print(expo(2,3))"
      ],
      "metadata": {
        "colab": {
          "base_uri": "https://localhost:8080/"
        },
        "id": "Dj73E7lELF2_",
        "outputId": "1df7594b-453e-452b-988b-36391b04497c"
      },
      "execution_count": null,
      "outputs": [
        {
          "output_type": "stream",
          "name": "stdout",
          "text": [
            "8\n"
          ]
        }
      ]
    },
    {
      "cell_type": "code",
      "execution_count": null,
      "metadata": {
        "colab": {
          "base_uri": "https://localhost:8080/"
        },
        "id": "rWBUXkpCxwTW",
        "outputId": "4ece6a54-8ce7-4eb5-d650-bd7f343dba0f"
      },
      "outputs": [
        {
          "output_type": "stream",
          "name": "stdout",
          "text": [
            "2.a)\n",
            "CS142\n",
            "\n",
            "2.b)\n",
            "4\n"
          ]
        }
      ],
      "source": [
        "print('2.a)')\n",
        "#Find course in course list of 2n-1 elements with only 1 appearance \n",
        "\n",
        "input = ['B102','C102','CS142','M102','C102','M102','B102','P102','P102']\n",
        "# Init an empty dictionary\n",
        "courses = {}\n",
        "def course_dict(input):\n",
        "  # Iterating through elements in input\n",
        "  for i in input:\n",
        "    # If element not in dict , set a key with value 1\n",
        "    if i not in courses:\n",
        "      courses[i] = 1\n",
        "    else:\n",
        "      # If element already present , increment value of key by 1\n",
        "      courses[i] += 1\n",
        "\n",
        "    # Fidning key with value 1 \n",
        "  for key,value in courses.items():\n",
        "    if value == 1:\n",
        "      return key\n",
        "\n",
        "print(course_dict(input))\n",
        "print()\n",
        "\n",
        "print(\"2.b)\")\n",
        "\n",
        "# Same as question 1 but instead of course list we have a list of 2n-1 elements containing (1,n)\n",
        "# We use properties of numbers instead of a dictionary to execute this using only one auxillary variable \n",
        "# (Lists are compound variables and can't be used)\n",
        "\n",
        "input = [3,1,2,5,4,1,5,3,2]\n",
        "def fun(input):\n",
        "  # Finding sum of n numbers and doubling it \n",
        "  n = (len(input)+1)//2\n",
        "  sum = n*(n+1)\n",
        "  # Finding the sum of elements in the list\n",
        "  l_sum = 0 \n",
        "  for i in input:\n",
        "    l_sum += i\n",
        "  # Returning the double of sum of n elements and subtracting the sum of our given list , returning us with the element only appearing once\n",
        "  # eg: Our input list is (1,1,2)\n",
        "  #   : (1,1,2,2) - (1,1,2) = 2\n",
        "  return(sum - l_sum)\n",
        "\n",
        "print(fun(input))\n"
      ]
    },
    {
      "cell_type": "code",
      "source": [
        "#Problem 3\n",
        "# Modifying the insertion sort algorithm to sort position of elements divisible by k in asccending order \n",
        "# and the rest of the elements in descending order \n",
        "# Insertion sort Algorithm provided\n",
        "def insertion_sort(list1):\n",
        "  for i in range(1,len(list1)):\n",
        "    current = list1[i]\n",
        "    j = i -1\n",
        "    while j >= 0 and current < list1[j]:\n",
        "      list1[j+1] = list1[j]\n",
        "      j = j -1 \n",
        "    list1[j+1] = current\n",
        "  return list1\n",
        "\n",
        "# Method using auxillary lists\n",
        "\n",
        "def ins_sort(List,k):\n",
        "\n",
        "  aux_1 = [i for i in range(k-1,len(List),k)] # Stores values of indicies in kth positions \n",
        "  aux_2 = [i for i in range(len(List)) if i not in aux_1] # Stores indices of elements other than kth \n",
        "  \n",
        "  # Soting of elements in kth pos in Ascending order\n",
        "  for i in range(len(aux_1)):\n",
        "    current = List[aux_1[i]]\n",
        "    j = i -1\n",
        "    while j >= 0 and current < List[aux_1[j]]:\n",
        "      List[aux_1[j+1]] = List[aux_1[j]]\n",
        "      j = j -1 \n",
        "    List[aux_1[j+1]] = current\n",
        "  \n",
        "  # Sorting of all other elements in Descending order\n",
        "  for i in range(len(aux_2)):\n",
        "    current = List[aux_2[i]]\n",
        "    j = i -1\n",
        "    while j >= 0 and current > List[aux_2[j]]:\n",
        "      List[aux_2[j+1]] = List[aux_2[j]]\n",
        "      j = j -1 \n",
        "    List[aux_2[j+1]] = current \n",
        "  \n",
        "  return List\n",
        "print('3.a (Aux lists)')\n",
        "n = [31,12,21,55,22,1,51,30,2,7]\n",
        "k = 3\n",
        "print(ins_sort(n,k))"
      ],
      "metadata": {
        "colab": {
          "base_uri": "https://localhost:8080/"
        },
        "id": "teqYuf6IGUZK",
        "outputId": "c9159f9b-8b5b-4005-8b3d-40e18a8b3a85"
      },
      "execution_count": 11,
      "outputs": [
        {
          "output_type": "stream",
          "name": "stdout",
          "text": [
            "3.a (Aux lists)\n",
            "[55, 51, 1, 31, 30, 2, 22, 12, 21, 7]\n"
          ]
        }
      ]
    },
    {
      "cell_type": "code",
      "source": [
        "# Sorting algorithm without using auxillary lists\n",
        "\n",
        "def my_sort(List,k):\n",
        "    #Sorting in Ascending order\n",
        "    for i in range(k-1,len(List),k):\n",
        "        current = List[i]\n",
        "        j = i-k\n",
        "        while j>=0 and List[j] > current:\n",
        "            List[j+k] = List[j]\n",
        "            j -= k\n",
        "        List[j+k]=current\n",
        "        \n",
        "    #Sorting in Descending order\n",
        "    for i in range(len(List)):\n",
        "        if (i+1)%k!=0:\n",
        "            current = List[i]\n",
        "            if i%k == 0:\n",
        "                j = i-2\n",
        "            else:\n",
        "                j = i-1\n",
        "            while j>=0 and List[j]<current:\n",
        "                if (j+2)%k==0:\n",
        "                    List[j+2]=List[j]\n",
        "                else:\n",
        "                    List[j+1]=List[j]\n",
        "                if j%k == 0:\n",
        "                    j-=2\n",
        "                else:\n",
        "                    j-=1\n",
        "            if (j+2)%k == 0:\n",
        "                List[j+2]=current\n",
        "            else:\n",
        "                List[j+1]=current\n",
        "    \n",
        "    return List\n",
        "\n",
        "n = [31,12,21,55,22,1,51,30,2,7]\n",
        "k = 3\n",
        "print('3.b W/o Aux lists')\n",
        "print(my_sort(n,k))\n",
        "print(my_sort([10,7,9,8],3)) # Rosha, here you go <3"
      ],
      "metadata": {
        "colab": {
          "base_uri": "https://localhost:8080/"
        },
        "id": "44iGGMQ5GcZH",
        "outputId": "ac8ad190-8462-487b-a0a9-4c16db365ebb"
      },
      "execution_count": 12,
      "outputs": [
        {
          "output_type": "stream",
          "name": "stdout",
          "text": [
            "3.b W/o Aux lists\n",
            "[55, 51, 1, 31, 30, 2, 22, 12, 21, 7]\n",
            "[10, 8, 9, 7]\n"
          ]
        }
      ]
    },
    {
      "cell_type": "code",
      "source": [
        "# Problem 4 : Finding number of inversion pairs\n",
        "\n",
        "# Inversion pairs are pairs of elements in list such that i < j but L[i] > L[j]\n",
        "# The bigger the number of inversion pairs , the farther we are from the final sorted list\n",
        "# 0 Inversion pairs indicates a totally sorted list\n",
        "\n",
        "\n",
        "def inversion_pair(list1):\n",
        "  # Just introduce a counter for every inversion pair \"sorted\"\n",
        "  count = 0\n",
        "  for i in range(1,len(list1)):\n",
        "    current = list1[i]\n",
        "    j = i -1\n",
        "    while j >= 0 and current < list1[j]:\n",
        "      count += 1\n",
        "      list1[j+1] = list1[j]\n",
        "      j = j -1 \n",
        "    list1[j+1] = current\n",
        "  return count\n",
        "\n",
        "\n",
        "n = [31,12,21,55,14,1,51,30,2,7]\n",
        "print(inversion_pair(n))\n"
      ],
      "metadata": {
        "colab": {
          "base_uri": "https://localhost:8080/"
        },
        "id": "DEwEUXijQm2s",
        "outputId": "526ea38f-5917-4dc7-823f-6c0aa60634d3"
      },
      "execution_count": null,
      "outputs": [
        {
          "output_type": "stream",
          "name": "stdout",
          "text": [
            "28\n"
          ]
        }
      ]
    }
  ]
}