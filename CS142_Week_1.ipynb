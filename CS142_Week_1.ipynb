{
  "nbformat": 4,
  "nbformat_minor": 0,
  "metadata": {
    "colab": {
      "provenance": [],
      "authorship_tag": "ABX9TyPmxm/EpSR0r2BpIdU5FfPn",
      "include_colab_link": true
    },
    "kernelspec": {
      "name": "python3",
      "display_name": "Python 3"
    },
    "language_info": {
      "name": "python"
    }
  },
  "cells": [
    {
      "cell_type": "markdown",
      "metadata": {
        "id": "view-in-github",
        "colab_type": "text"
      },
      "source": [
        "<a href=\"https://colab.research.google.com/github/Methaphur/CS142-Lab-works-/blob/main/CS142_Week_1.ipynb\" target=\"_parent\"><img src=\"https://colab.research.google.com/assets/colab-badge.svg\" alt=\"Open In Colab\"/></a>"
      ]
    },
    {
      "cell_type": "markdown",
      "source": [
        "##Revision class - Recursion"
      ],
      "metadata": {
        "id": "OGPSkTWF4dRU"
      }
    },
    {
      "cell_type": "code",
      "execution_count": null,
      "metadata": {
        "colab": {
          "base_uri": "https://localhost:8080/"
        },
        "id": "0w-QRoxwxPm5",
        "outputId": "a7165c1e-64f1-4072-d96b-743cb0839544"
      },
      "outputs": [
        {
          "output_type": "stream",
          "name": "stdout",
          "text": [
            "120\n"
          ]
        }
      ],
      "source": [
        "#Factorial function\n",
        "def factorial(n):\n",
        "  if n == 1:\n",
        "    return n\n",
        "  return n*factorial(n-1)\n",
        "\n",
        "print(factorial())"
      ]
    },
    {
      "cell_type": "code",
      "source": [
        "#nth fibonnaci number\n",
        "\n",
        "def fibon(n):\n",
        "  if n < 3: \n",
        "    return 1\n",
        "  return fibon(n-1)+fibon(n-2)\n",
        "\n",
        "print(fibon(6))\n",
        "\n",
        "#First 10 fibonacci numbers\n",
        "#for i in range(1,11):\n",
        "#  print(fibon(i), end = \" \")"
      ],
      "metadata": {
        "colab": {
          "base_uri": "https://localhost:8080/"
        },
        "id": "0IQLzD2AxoS8",
        "outputId": "91010fde-2af6-4493-e064-690cc3f8a1ba"
      },
      "execution_count": null,
      "outputs": [
        {
          "output_type": "stream",
          "name": "stdout",
          "text": [
            "8\n"
          ]
        }
      ]
    },
    {
      "cell_type": "code",
      "source": [
        "#Testing for 50th fibonnaci number using for loop\n",
        "fibon = [1,1]\n",
        "for i in range(2,50):\n",
        "  fibon.append(fibon[i-1]+fibon[i-2])\n",
        "fibon[-1]"
      ],
      "metadata": {
        "colab": {
          "base_uri": "https://localhost:8080/"
        },
        "id": "XVKaCpwk24XE",
        "outputId": "3860287f-c308-4430-dfb8-09ca2aba53a1"
      },
      "execution_count": null,
      "outputs": [
        {
          "output_type": "execute_result",
          "data": {
            "text/plain": [
              "12586269025"
            ]
          },
          "metadata": {},
          "execution_count": 131
        }
      ]
    },
    {
      "cell_type": "markdown",
      "source": [
        "## Storing Data while computing \n",
        "While calculating the 50th fibonnaci number , we use f(50) = f(49) + f(48) but when calculating f(49) we are already calculating f(48) which means  unnecessary computation. Herer we are storing the values of f(48) when we calculate it and use it for f(49). "
      ],
      "metadata": {
        "id": "LH2Dl8x449I4"
      }
    },
    {
      "cell_type": "code",
      "source": [
        "#Finding the 50th fibonnaci number usin recursion but previously calculated values are stored \n",
        "def fibon(n,x=[1,1]):\n",
        "  if n <= len(x):\n",
        "    return x[n-1]\n",
        "  a = (fibon(n-1)+fibon(n-2))\n",
        "  x.append(a)\n",
        "  return a\n",
        "fibon(50)"
      ],
      "metadata": {
        "colab": {
          "base_uri": "https://localhost:8080/"
        },
        "id": "rSXLc6y24MzN",
        "outputId": "9c43b401-397b-4e52-8b92-ac2b2b5595c0"
      },
      "execution_count": null,
      "outputs": [
        {
          "output_type": "execute_result",
          "data": {
            "text/plain": [
              "12586269025"
            ]
          },
          "metadata": {},
          "execution_count": 65
        }
      ]
    },
    {
      "cell_type": "code",
      "source": [
        "# Initialising a list with thousand elements all zeroes \n",
        "x = [0]*1000\n",
        "#Initialising the starting condition with first 2 elements 1 \n",
        "x[0] = x[1] = 1\n",
        "\n",
        "def fibon(n):  \n",
        "  # If the nth element is not zero , it is already calculated and this value is returned\n",
        "  if x[n-1] !=  0:\n",
        "    return x[n-1] \n",
        "  \n",
        "  else:\n",
        "    #if not nth value is calculated using recursion\n",
        "    a = fibon(n-1)+fibon(n-2)\n",
        "    x[n-1] = a\n",
        "    return a\n",
        "\n",
        "print(fibon(50))\n"
      ],
      "metadata": {
        "colab": {
          "base_uri": "https://localhost:8080/"
        },
        "id": "Um9ghLmQ6z62",
        "outputId": "92ad2706-f829-4e31-9ba1-96ef65ee1456"
      },
      "execution_count": null,
      "outputs": [
        {
          "output_type": "stream",
          "name": "stdout",
          "text": [
            "12586269025\n"
          ]
        }
      ]
    },
    {
      "cell_type": "markdown",
      "source": [
        "## Calculating C<sup>m</sup> with only log<sub>m</sub> number or mutliplication operations  "
      ],
      "metadata": {
        "id": "g72XlSmG56pC"
      }
    },
    {
      "cell_type": "code",
      "source": [
        "def expo(m,n):\n",
        "  if n == 2:\n",
        "    return m*m\n",
        "  return expo((m*m),(n/2))\n",
        "\n",
        "expo(2,32)"
      ],
      "metadata": {
        "colab": {
          "base_uri": "https://localhost:8080/"
        },
        "id": "FW2IZmhfEHAo",
        "outputId": "f1079c51-9e84-498d-d871-36ad4e800c91"
      },
      "execution_count": 1,
      "outputs": [
        {
          "output_type": "execute_result",
          "data": {
            "text/plain": [
              "4294967296"
            ]
          },
          "metadata": {},
          "execution_count": 1
        }
      ]
    }
  ]
}